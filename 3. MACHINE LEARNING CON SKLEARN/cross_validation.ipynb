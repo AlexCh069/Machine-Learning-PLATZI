{
 "cells": [
  {
   "cell_type": "markdown",
   "metadata": {},
   "source": [
    "# Cross-Validation"
   ]
  },
  {
   "cell_type": "code",
   "execution_count": 2,
   "metadata": {},
   "outputs": [],
   "source": [
    "import pandas as pd\n",
    "import numpy as np\n",
    "\n",
    "from sklearn.tree import DecisionTreeRegressor\n",
    "\n",
    "from sklearn.model_selection import (cross_val_score, KFold)\n"
   ]
  },
  {
   "cell_type": "code",
   "execution_count": 3,
   "metadata": {},
   "outputs": [
    {
     "data": {
      "text/html": [
       "<div>\n",
       "<style scoped>\n",
       "    .dataframe tbody tr th:only-of-type {\n",
       "        vertical-align: middle;\n",
       "    }\n",
       "\n",
       "    .dataframe tbody tr th {\n",
       "        vertical-align: top;\n",
       "    }\n",
       "\n",
       "    .dataframe thead th {\n",
       "        text-align: right;\n",
       "    }\n",
       "</style>\n",
       "<table border=\"1\" class=\"dataframe\">\n",
       "  <thead>\n",
       "    <tr style=\"text-align: right;\">\n",
       "      <th></th>\n",
       "      <th>country</th>\n",
       "      <th>rank</th>\n",
       "      <th>score</th>\n",
       "      <th>high</th>\n",
       "      <th>low</th>\n",
       "      <th>gdp</th>\n",
       "      <th>family</th>\n",
       "      <th>lifexp</th>\n",
       "      <th>freedom</th>\n",
       "      <th>generosity</th>\n",
       "      <th>corruption</th>\n",
       "      <th>dystopia</th>\n",
       "    </tr>\n",
       "  </thead>\n",
       "  <tbody>\n",
       "    <tr>\n",
       "      <th>0</th>\n",
       "      <td>Norway</td>\n",
       "      <td>1</td>\n",
       "      <td>7.537</td>\n",
       "      <td>7.594445</td>\n",
       "      <td>7.479556</td>\n",
       "      <td>1.616463</td>\n",
       "      <td>1.533524</td>\n",
       "      <td>0.796667</td>\n",
       "      <td>0.635423</td>\n",
       "      <td>0.362012</td>\n",
       "      <td>0.315964</td>\n",
       "      <td>2.277027</td>\n",
       "    </tr>\n",
       "    <tr>\n",
       "      <th>1</th>\n",
       "      <td>Denmark</td>\n",
       "      <td>2</td>\n",
       "      <td>7.522</td>\n",
       "      <td>7.581728</td>\n",
       "      <td>7.462272</td>\n",
       "      <td>1.482383</td>\n",
       "      <td>1.551122</td>\n",
       "      <td>0.792566</td>\n",
       "      <td>0.626007</td>\n",
       "      <td>0.355280</td>\n",
       "      <td>0.400770</td>\n",
       "      <td>2.313707</td>\n",
       "    </tr>\n",
       "  </tbody>\n",
       "</table>\n",
       "</div>"
      ],
      "text/plain": [
       "   country  rank  score      high       low       gdp    family    lifexp  \\\n",
       "0   Norway     1  7.537  7.594445  7.479556  1.616463  1.533524  0.796667   \n",
       "1  Denmark     2  7.522  7.581728  7.462272  1.482383  1.551122  0.792566   \n",
       "\n",
       "    freedom  generosity  corruption  dystopia  \n",
       "0  0.635423    0.362012    0.315964  2.277027  \n",
       "1  0.626007    0.355280    0.400770  2.313707  "
      ]
     },
     "execution_count": 3,
     "metadata": {},
     "output_type": "execute_result"
    }
   ],
   "source": [
    "dataset = pd.read_csv('felicidad.csv')\n",
    "dataset.head(2)"
   ]
  },
  {
   "cell_type": "code",
   "execution_count": 4,
   "metadata": {},
   "outputs": [],
   "source": [
    "# Datos \n",
    "X = dataset.drop(['country','score'], axis=1)\n",
    "y = dataset['score']\n",
    "\n",
    "# modelo\n",
    "model = DecisionTreeRegressor()"
   ]
  },
  {
   "cell_type": "markdown",
   "metadata": {},
   "source": [
    "## Aplicacion de cross-validation"
   ]
  },
  {
   "cell_type": "code",
   "execution_count": 27,
   "metadata": {},
   "outputs": [
    {
     "name": "stdout",
     "output_type": "stream",
     "text": [
      "0.5539827064383007\n"
     ]
    }
   ],
   "source": [
    "score = cross_val_score(model,  # Modelo (estamos usando un metaestimador)\n",
    "                        X,      # Features \n",
    "                        y,      # Target\n",
    "                        cv = 3, # Divisiones del set de datos\n",
    "                        scoring='neg_mean_squared_error')   # Metrica para la evaluación en cada entrenamiento\n",
    "\n",
    "print(np.abs(np.mean(score)))"
   ]
  },
  {
   "cell_type": "markdown",
   "metadata": {},
   "source": [
    "## Funcionamiento \n",
    "\n",
    "El ciclo for nos muestra la division realizada al set de datos (3 en este caso), y en cada ciclo nos muestra una distribucion diferente de division entre datos de entrenamiento y prueba. Esto puede ser pasado a un estimador, el cual puede ser entrenado y obtener sus metricas de evaluacion "
   ]
  },
  {
   "cell_type": "code",
   "execution_count": 28,
   "metadata": {},
   "outputs": [
    {
     "name": "stdout",
     "output_type": "stream",
     "text": [
      "[  0   1   2   3   5   6   7   9  11  12  14  16  18  21  22  24  25  27\n",
      "  28  29  30  35  37  38  39  40  41  43  44  45  46  48  49  50  51  53\n",
      "  54  55  60  61  62  63  64  65  66  68  69  71  72  75  76  78  80  81\n",
      "  82  83  88  89  90  91  92  93  94  96  97  99 100 101 102 103 105 106\n",
      " 107 109 111 113 114 117 118 119 121 122 123 124 125 126 131 132 134 136\n",
      " 138 139 140 141 142 143 145 146 148 150 151 152 153]\n",
      "[  4   8  10  13  15  17  19  20  23  26  31  32  33  34  36  42  47  52\n",
      "  56  57  58  59  67  70  73  74  77  79  84  85  86  87  95  98 104 108\n",
      " 110 112 115 116 120 127 128 129 130 133 135 137 144 147 149 154]\n",
      "[  0   2   3   4   8   9  10  11  13  14  15  16  17  18  19  20  22  23\n",
      "  24  26  29  31  32  33  34  35  36  38  39  42  44  45  47  48  49  52\n",
      "  53  54  56  57  58  59  61  62  63  67  69  70  73  74  75  76  77  78\n",
      "  79  80  83  84  85  86  87  88  90  91  93  95  96  98 101 104 106 107\n",
      " 108 110 111 112 113 114 115 116 119 120 121 122 124 127 128 129 130 132\n",
      " 133 135 137 138 140 142 143 144 147 148 149 152 154]\n",
      "[  1   5   6   7  12  21  25  27  28  30  37  40  41  43  46  50  51  55\n",
      "  60  64  65  66  68  71  72  81  82  89  92  94  97  99 100 102 103 105\n",
      " 109 117 118 123 125 126 131 134 136 139 141 145 146 150 151 153]\n",
      "[  1   4   5   6   7   8  10  12  13  15  17  19  20  21  23  25  26  27\n",
      "  28  30  31  32  33  34  36  37  40  41  42  43  46  47  50  51  52  55\n",
      "  56  57  58  59  60  64  65  66  67  68  70  71  72  73  74  77  79  81\n",
      "  82  84  85  86  87  89  92  94  95  97  98  99 100 102 103 104 105 108\n",
      " 109 110 112 115 116 117 118 120 123 125 126 127 128 129 130 131 133 134\n",
      " 135 136 137 139 141 144 145 146 147 149 150 151 153 154]\n",
      "[  0   2   3   9  11  14  16  18  22  24  29  35  38  39  44  45  48  49\n",
      "  53  54  61  62  63  69  75  76  78  80  83  88  90  91  93  96 101 106\n",
      " 107 111 113 114 119 121 122 124 132 138 140 142 143 148 152]\n"
     ]
    }
   ],
   "source": [
    "kf = KFold(n_splits=3, shuffle=True, random_state=69)\n",
    "\n",
    "for train, test in kf.split(dataset):\n",
    "    print(train)\n",
    "    print(test)"
   ]
  },
  {
   "cell_type": "code",
   "execution_count": null,
   "metadata": {},
   "outputs": [],
   "source": []
  }
 ],
 "metadata": {
  "kernelspec": {
   "display_name": "proyects_learn",
   "language": "python",
   "name": "python3"
  },
  "language_info": {
   "codemirror_mode": {
    "name": "ipython",
    "version": 3
   },
   "file_extension": ".py",
   "mimetype": "text/x-python",
   "name": "python",
   "nbconvert_exporter": "python",
   "pygments_lexer": "ipython3",
   "version": "3.10.15"
  }
 },
 "nbformat": 4,
 "nbformat_minor": 2
}
