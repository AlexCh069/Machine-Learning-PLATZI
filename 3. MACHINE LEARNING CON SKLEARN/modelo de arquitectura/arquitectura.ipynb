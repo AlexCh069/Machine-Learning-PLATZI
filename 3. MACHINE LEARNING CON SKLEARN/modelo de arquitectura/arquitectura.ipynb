{
 "cells": [
  {
   "cell_type": "markdown",
   "metadata": {},
   "source": [
    "# Arquitectura de Codigo"
   ]
  },
  {
   "attachments": {
    "image.png": {
     "image/png": "[encoded data removed]"
    }
   },
   "cell_type": "markdown",
   "metadata": {},
   "source": [
    "Aqui vamos a describir como podrian estar distribuidos los archivos en diferentes carpetas, cada una teniendo un objetivo para asi mantener el orden en nuestro codigo. Esto es util para mejorar la legibilidad del codigo.\n",
    "\n",
    "La estructura de nuestro directorio (como plantilla), tiene la siguiente forma:\n",
    "\n",
    "![image.png](attachment:image.png)"
   ]
  },
  {
   "cell_type": "markdown",
   "metadata": {},
   "source": [
    "***Carpetas:***\n",
    "- in: contendra todos los archivos que sean de utilidad, estos pueden ser excel's, csv's, imagenes, etc\n",
    "- out: contiene todos los archivos que puedan haber sido generados en el proceso\n",
    "- models: contendra todos los modelos de ml generados que puedan ser prometedores"
   ]
  },
  {
   "cell_type": "markdown",
   "metadata": {},
   "source": [
    "***Archivos:***\n",
    "- main.py : Contiene todo el flujo de machine learning difinido \n",
    "- load.py: Archivo encargado solo de la carga de informacion (bases de datos, csv's, excel's, etc) para nuestro flujo de trabajo\n",
    "- utils.py : todos los metodos que voy a usar una y otra ves sobre los datos\n",
    "- models.py : Contiene el flujo de codigo para el entrenamiento de nuestros modelos\n",
    "- server.py : Contiene la estructura para mostrar resultados en una api"
   ]
  },
  {
   "cell_type": "markdown",
   "metadata": {},
   "source": []
  },
  {
   "cell_type": "markdown",
   "metadata": {},
   "source": [
    "> Esta distribucion de archivos puede variar segun el contexto, ya que en algunos casos aplicativos algunos pueden ser innecesarios (como en este caso load.py)"
   ]
  },
  {
   "cell_type": "markdown",
   "metadata": {},
   "source": [
    "Para probar la estructura se desarrollo el entramiento de un modelo de regresion usando SVR y GradientBostingRegressor"
   ]
  },
  {
   "cell_type": "markdown",
   "metadata": {},
   "source": []
  }
 ],
 "metadata": {
  "language_info": {
   "name": "python"
  }
 },
 "nbformat": 4,
 "nbformat_minor": 2
}
